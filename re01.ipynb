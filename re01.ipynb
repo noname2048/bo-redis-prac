{
 "cells": [
  {
   "cell_type": "code",
   "execution_count": 28,
   "id": "088f691b-352e-4ae7-a55c-65aa9368e319",
   "metadata": {},
   "outputs": [],
   "source": [
    "async def f():\n",
    "    print('hi')"
   ]
  },
  {
   "cell_type": "code",
   "execution_count": 29,
   "id": "8cf21d10-d92c-4a80-a064-808330e3d724",
   "metadata": {},
   "outputs": [
    {
     "name": "stdout",
     "output_type": "stream",
     "text": [
      "hi\n"
     ]
    }
   ],
   "source": [
    "await f()"
   ]
  },
  {
   "cell_type": "code",
   "execution_count": 30,
   "id": "b484c1e0-7cb8-487f-9d60-32db85720fe9",
   "metadata": {},
   "outputs": [],
   "source": [
    "from redis import asyncio as aioredis"
   ]
  },
  {
   "cell_type": "code",
   "execution_count": 32,
   "id": "6fef7576-2392-483b-b86e-76f220e05b0c",
   "metadata": {},
   "outputs": [
    {
     "name": "stdout",
     "output_type": "stream",
     "text": [
      "Redis<ConnectionPool<Connection<host=localhost,port=6379,db=0>>>\n"
     ]
    }
   ],
   "source": [
    "r = aioredis.Redis(host=\"localhost\", port=6379)\n",
    "print(r)"
   ]
  },
  {
   "cell_type": "code",
   "execution_count": 33,
   "id": "73ad8997-ff38-469c-b137-fecf3b3a6e7f",
   "metadata": {},
   "outputs": [
    {
     "name": "stdout",
     "output_type": "stream",
     "text": [
      "<redis.asyncio.client.PubSub object at 0x11260a020>\n"
     ]
    }
   ],
   "source": [
    "s = r.pubsub()\n",
    "print(s)"
   ]
  },
  {
   "cell_type": "code",
   "execution_count": 49,
   "id": "73596280-be65-4d9e-aac1-dd31c527af64",
   "metadata": {},
   "outputs": [
    {
     "name": "stdout",
     "output_type": "stream",
     "text": [
      "<coroutine object PubSub.subscribe at 0x1122991c0>\n"
     ]
    }
   ],
   "source": [
    "p = s.subscribe(\"channel:23\")\n",
    "print(p)"
   ]
  },
  {
   "cell_type": "code",
   "execution_count": 50,
   "id": "6a572f2c-754e-4b27-9a0c-30f6c6e2e52b",
   "metadata": {},
   "outputs": [],
   "source": [
    "import asyncio"
   ]
  },
  {
   "cell_type": "code",
   "execution_count": 51,
   "id": "12a85b29-cbba-4f7b-88da-3ce31894f724",
   "metadata": {},
   "outputs": [
    {
     "name": "stdout",
     "output_type": "stream",
     "text": [
      "None\n"
     ]
    }
   ],
   "source": [
    "c = await p\n",
    "print(c)"
   ]
  },
  {
   "cell_type": "code",
   "execution_count": 52,
   "id": "0f6cd199-4da3-4908-b8a0-e8c927f50582",
   "metadata": {},
   "outputs": [
    {
     "ename": "AttributeError",
     "evalue": "'NoneType' object has no attribute 'wait_message'",
     "output_type": "error",
     "traceback": [
      "\u001b[0;31m---------------------------------------------------------------------------\u001b[0m",
      "\u001b[0;31mAttributeError\u001b[0m                            Traceback (most recent call last)",
      "Input \u001b[0;32mIn [52]\u001b[0m, in \u001b[0;36m<module>\u001b[0;34m\u001b[0m\n\u001b[0;32m----> 1\u001b[0m \u001b[38;5;28;01mawait\u001b[39;00m c\u001b[38;5;241m.\u001b[39mwait_message()\n\u001b[1;32m      2\u001b[0m j \u001b[38;5;241m=\u001b[39m \u001b[38;5;28;01mawait\u001b[39;00m c\u001b[38;5;241m.\u001b[39mget(encoding\u001b[38;5;241m=\u001b[39m\u001b[38;5;124m'\u001b[39m\u001b[38;5;124mutf-8\u001b[39m\u001b[38;5;124m'\u001b[39m)\n\u001b[1;32m      3\u001b[0m \u001b[38;5;28mprint\u001b[39m(j)\n",
      "\u001b[0;31mAttributeError\u001b[0m: 'NoneType' object has no attribute 'wait_message'"
     ]
    }
   ],
   "source": [
    "await c.wait_message()\n",
    "j = await c.get(encoding='utf-8')\n",
    "print(j)"
   ]
  },
  {
   "cell_type": "code",
   "execution_count": 2,
   "id": "878b9f4e-a557-48c8-8a07-ea8ba44046d5",
   "metadata": {},
   "outputs": [
    {
     "name": "stdout",
     "output_type": "stream",
     "text": [
      "(Reader) Message Received: {'type': 'message', 'pattern': None, 'channel': b'channel:1', 'data': b'Hello'}\n",
      "(Reader) Message Received: {'type': 'message', 'pattern': None, 'channel': b'channel:2', 'data': b'world'}\n"
     ]
    },
    {
     "ename": "CancelledError",
     "evalue": "",
     "output_type": "error",
     "traceback": [
      "\u001b[0;31m---------------------------------------------------------------------------\u001b[0m",
      "\u001b[0;31mCancelledError\u001b[0m                            Traceback (most recent call last)",
      "Input \u001b[0;32mIn [2]\u001b[0m, in \u001b[0;36mreader\u001b[0;34m(channel)\u001b[0m\n\u001b[1;32m     17\u001b[0m                 \u001b[38;5;28;01mbreak\u001b[39;00m\n\u001b[0;32m---> 18\u001b[0m         \u001b[38;5;28;01mawait\u001b[39;00m asyncio\u001b[38;5;241m.\u001b[39msleep(\u001b[38;5;241m0.01\u001b[39m)\n\u001b[1;32m     19\u001b[0m \u001b[38;5;28;01mexcept\u001b[39;00m asyncio\u001b[38;5;241m.\u001b[39mTimeoutError:\n",
      "File \u001b[0;32m~/.pyenv/versions/3.10.3/lib/python3.10/asyncio/tasks.py:605\u001b[0m, in \u001b[0;36msleep\u001b[0;34m(delay, result)\u001b[0m\n\u001b[1;32m    604\u001b[0m \u001b[38;5;28;01mtry\u001b[39;00m:\n\u001b[0;32m--> 605\u001b[0m     \u001b[38;5;28;01mreturn\u001b[39;00m \u001b[38;5;28;01mawait\u001b[39;00m future\n\u001b[1;32m    606\u001b[0m \u001b[38;5;28;01mfinally\u001b[39;00m:\n",
      "\u001b[0;31mCancelledError\u001b[0m: ",
      "\nDuring handling of the above exception, another exception occurred:\n",
      "\u001b[0;31mCancelledError\u001b[0m                            Traceback (most recent call last)",
      "Input \u001b[0;32mIn [2]\u001b[0m, in \u001b[0;36m<module>\u001b[0;34m\u001b[0m\n\u001b[1;32m     30\u001b[0m \u001b[38;5;28;01mawait\u001b[39;00m r\u001b[38;5;241m.\u001b[39mpublish(\u001b[38;5;124m\"\u001b[39m\u001b[38;5;124mchannel:2\u001b[39m\u001b[38;5;124m\"\u001b[39m, \u001b[38;5;124m\"\u001b[39m\u001b[38;5;124mworld\u001b[39m\u001b[38;5;124m\"\u001b[39m)\n\u001b[1;32m     31\u001b[0m \u001b[38;5;66;03m# await r.publish(\"channel:1\", STOPWORD)\u001b[39;00m\n\u001b[0;32m---> 33\u001b[0m \u001b[38;5;28;01mawait\u001b[39;00m future\n",
      "\u001b[0;31mCancelledError\u001b[0m: "
     ]
    }
   ],
   "source": [
    "import asyncio\n",
    "import async_timeout\n",
    "import redis.asyncio as redis\n",
    "\n",
    "STOPWORD = \"STOP\"\n",
    "\n",
    "\n",
    "async def reader(channel: redis.client.PubSub):\n",
    "    while True:\n",
    "        try:\n",
    "            async with async_timeout.timeout(1):\n",
    "                message = await channel.get_message(ignore_subscribe_messages=True)\n",
    "                if message is not None:\n",
    "                    print(f\"(Reader) Message Received: {message}\")\n",
    "                    if message[\"data\"].decode() == STOPWORD:\n",
    "                        print(\"(Reader) STOP\")\n",
    "                        break\n",
    "                await asyncio.sleep(0.01)\n",
    "        except asyncio.TimeoutError:\n",
    "            pass\n",
    "\n",
    "\n",
    "r = redis.from_url(\"redis://localhost\")\n",
    "pubsub = r.pubsub()\n",
    "await pubsub.subscribe(\"channel:1\", \"channel:2\")\n",
    "\n",
    "future = asyncio.create_task(reader(pubsub))\n",
    "\n",
    "await r.publish(\"channel:1\", \"Hello\")\n",
    "await r.publish(\"channel:2\", \"world\")\n",
    "# await r.publish(\"channel:1\", STOPWORD)\n",
    "\n",
    "await future"
   ]
  },
  {
   "cell_type": "code",
   "execution_count": null,
   "id": "de55d86e-61d2-4975-9baf-0a1e0ab8449a",
   "metadata": {},
   "outputs": [],
   "source": [
    "r.publish(\"channel:1\", \"wow\")"
   ]
  },
  {
   "cell_type": "code",
   "execution_count": null,
   "id": "79cb694c-637f-4f83-9808-984d9810e307",
   "metadata": {},
   "outputs": [],
   "source": [
    "await r.publish('channel:1', 'wow')"
   ]
  },
  {
   "cell_type": "code",
   "execution_count": null,
   "id": "91d22d64-4219-4bdb-a5a6-7e483e73a84b",
   "metadata": {},
   "outputs": [],
   "source": []
  }
 ],
 "metadata": {
  "kernelspec": {
   "display_name": "Python 3 (ipykernel)",
   "language": "python",
   "name": "python3"
  },
  "language_info": {
   "codemirror_mode": {
    "name": "ipython",
    "version": 3
   },
   "file_extension": ".py",
   "mimetype": "text/x-python",
   "name": "python",
   "nbconvert_exporter": "python",
   "pygments_lexer": "ipython3",
   "version": "3.10.3"
  }
 },
 "nbformat": 4,
 "nbformat_minor": 5
}
